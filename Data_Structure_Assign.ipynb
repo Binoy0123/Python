{
  "nbformat": 4,
  "nbformat_minor": 0,
  "metadata": {
    "colab": {
      "provenance": []
    },
    "kernelspec": {
      "name": "python3",
      "display_name": "Python 3"
    },
    "language_info": {
      "name": "python"
    }
  },
  "cells": [
    {
      "cell_type": "markdown",
      "source": [
        "# Data Structure"
      ],
      "metadata": {
        "id": "-Mt9FGfdXZR8"
      }
    },
    {
      "cell_type": "code",
      "execution_count": null,
      "metadata": {
        "id": "wKhdkhhCXALw"
      },
      "outputs": [],
      "source": []
    },
    {
      "cell_type": "markdown",
      "source": [
        "1. what are data structure,and why are they important?"
      ],
      "metadata": {
        "id": "h-MIOqnWXllX"
      }
    },
    {
      "cell_type": "markdown",
      "source": [
        "    => Data structures are specialized formats for organizing, storing,and accessing collections of data. They provide efficient ways to manage information based on its characteristics and intended use.\n",
        "They are important because of the followings: 1.Choosing the right data structure significantly impacts the efficiency and performance of a program.\n",
        "2.Simplify data manipulation (adding, removing, modifying elements)\n",
        "3.Optimize searching and sorting operations\n",
        "4.Conserve memory usages."
      ],
      "metadata": {
        "id": "RClq4ecMX_Tf"
      }
    },
    {
      "cell_type": "markdown",
      "source": [
        "2. Explain the difference between mutable and immutable data types with example."
      ],
      "metadata": {
        "id": "ZcREiJehZZJG"
      }
    },
    {
      "cell_type": "markdown",
      "source": [
        " => In python objects can be of either changeable and unchangeable\n",
        "Mutable objects, such as lists and dictionaries, can be modified after creation, while immutable objects, such as tuples and strings, cannot.\n",
        "Mutability affects how objects are stored and manipulated in memory, impacting performance, memory usage, and concurrency in Python programs."
      ],
      "metadata": {
        "id": "M-N0BXNLa4YG"
      }
    },
    {
      "cell_type": "markdown",
      "source": [
        "3. What are the main differences between lists and tuples in Python?"
      ],
      "metadata": {
        "id": "AP4miSClbjil"
      }
    },
    {
      "cell_type": "markdown",
      "source": [
        "=> The main differences between Lists and Tuples are 1. Lists are Ordered, mutable collections of elements, whereas Tuples are Ordered,immutable collections of elements. 2.Under Lists elements can be add,remove,or modify using indexing and slicing, on the otherhand under Tuples elements can be accessed using indexing and slicing, but cannot modify the content.\n"
      ],
      "metadata": {
        "id": "4k8NsNLNbz35"
      }
    },
    {
      "cell_type": "markdown",
      "source": [
        "4. Describe how dictionaries store data."
      ],
      "metadata": {
        "id": "YFjlgYOwgLfx"
      }
    },
    {
      "cell_type": "markdown",
      "source": [
        "=> In Python, a dictionary is a built-in data structure used to store data in key-value pairs. It is implemented using a hash table under the hood, which allows for fast access, insertion, and deletion of elements."
      ],
      "metadata": {
        "id": "Rir2XmZoeVhn"
      }
    },
    {
      "cell_type": "markdown",
      "source": [
        "5.Why might you use a set instead of a list in Python?"
      ],
      "metadata": {
        "id": "7pteEt7IeWn4"
      }
    },
    {
      "cell_type": "markdown",
      "source": [
        "=> 1.Sets automatically remove duplicates.\n",
        "   2.Checking if an item exist in a set is much faster than in a list because sets use hashing.\n",
        "   3.Sets support powerful mathematical operations like Union,Intersection,Difference etc."
      ],
      "metadata": {
        "id": "xuCS9cSHhIec"
      }
    },
    {
      "cell_type": "markdown",
      "source": [
        "6.What is a string in python,and how is it different from a list?"
      ],
      "metadata": {
        "id": "qCOXApW3i8Te"
      }
    },
    {
      "cell_type": "markdown",
      "source": [
        "=>  A string in Python is a sequence of characters, enclosed in single quotes ('), double quotes (\"), or triple quotes (''' or \"\"\").\n",
        "\n",
        "The main differences between strings and lists are:\n",
        "Strings are immutable, meaning they cannot be changed after creation.\n",
        "Whereas Lists are mutable, meaning elements can be change,add or remove."
      ],
      "metadata": {
        "id": "q75H_Lp8jLPh"
      }
    },
    {
      "cell_type": "markdown",
      "source": [
        "7.How do tuples ensure data integrity in python?"
      ],
      "metadata": {
        "id": "T-4bMN8imM9M"
      }
    },
    {
      "cell_type": "markdown",
      "source": [
        "=> Tuples are immutable, meaning their content can't be altered. This makes them reliable for fixed data."
      ],
      "metadata": {
        "id": "as30F6aVmeun"
      }
    },
    {
      "cell_type": "markdown",
      "source": [
        "8.What is a hash table,and how does it relate to dictionaries in python?"
      ],
      "metadata": {
        "id": "FqSyosN-nAzg"
      }
    },
    {
      "cell_type": "markdown",
      "source": [
        "=> A hash table stores data using a key’s hash to find a location. Python dictionaries are built on hash tables for efficient data access."
      ],
      "metadata": {
        "id": "AqeBYz9wngVs"
      }
    },
    {
      "cell_type": "markdown",
      "source": [
        "9.Can Lists contain different data types in python?"
      ],
      "metadata": {
        "id": "kMzTi2genilR"
      }
    },
    {
      "cell_type": "markdown",
      "source": [
        "=> Yes, lists in Python are heterogeneous."
      ],
      "metadata": {
        "id": "ZhDZp-Shn9ib"
      }
    },
    {
      "cell_type": "markdown",
      "source": [
        "10.Explain why strings are immutable in python?"
      ],
      "metadata": {
        "id": "vK6K-o4hoC8P"
      }
    },
    {
      "cell_type": "markdown",
      "source": [
        "=> In Python, strings are immutable, meaning once a string is created, it cannot be changed. Any operation that modifies a string actually creates a new string object.\n",
        "Reasons Why Strings Are Immutable:\n",
        "1. Efficiency and Performance (String Interning)\n",
        "\n",
        "Python interns some strings to reuse memory.\n",
        "\n",
        "If strings were mutable, this would be unsafe because one change would affect all references.\n",
        "2. Hashability\n",
        "\n",
        "Strings can be used as keys in dictionaries or elements in sets.\n",
        "To be used as a key, an object must be hashable, and to be hashable, it must be immutable.\n",
        " 3. Thread Safety\n",
        "\n",
        "Since strings cannot change, they are safe to use across threads without risk of unexpected modification."
      ],
      "metadata": {
        "id": "gGla6lmhoQJl"
      }
    },
    {
      "cell_type": "markdown",
      "source": [
        "11.What Advantages Do Dictionaries Offer Over Lists for Certain Tasks?\n"
      ],
      "metadata": {
        "id": "_2sYCYFeqDX9"
      }
    },
    {
      "cell_type": "markdown",
      "source": [
        "=> What Advantages Do Dictionaries Offer Over Lists for Certain Tasks?\n",
        "\n",
        "Dictionaries (dict) and lists (list) are both powerful Python data structures, but dictionaries offer several key advantages for specific use cases.\n",
        "\n",
        "1. Faster Data Lookup\n",
        "\n",
        "Dictionaries access elements by key in constant time using a hash table.\n",
        "\n",
        "2. More Descriptive & Readable Code\n",
        "Dictionaries use named keys, making data more self-explanatory than index-based lists.\n",
        "\n",
        "3. Flexible Data Organization\n",
        "Dictionaries are ideal for storing structured data\n",
        "\n",
        " 4. No Need to Remember Indexes\n",
        "With lists, you need to remember positions; with dictionaries, you just use key\n",
        "\n",
        "5. Better for Data Mapping\n",
        "Dictionaries are great when you need to map one value to another, like names to phone numbers or usernames to profiles."
      ],
      "metadata": {
        "id": "Dj10H5xtrLYU"
      }
    },
    {
      "cell_type": "markdown",
      "source": [
        "12. Describe a scenario where using a tuple would be preferable over list."
      ],
      "metadata": {
        "id": "pq9WQonCr2pM"
      }
    },
    {
      "cell_type": "markdown",
      "source": [
        "=> A tuple is preferable over a list when you need to store a fixed set of values that should not be changed, and when data integrity or performance is important.\n",
        "\n",
        "Why use a tuple\n",
        "\n",
        "1.The location should not change it's a fixed coordinate.\n",
        "2.In order to prevent accidental modification.\n",
        "3.Tuples are hashable, so they can be used as keys in dictionaries or stored in sets."
      ],
      "metadata": {
        "id": "aykm8znDs0sC"
      }
    },
    {
      "cell_type": "markdown",
      "source": [
        "13.How does set handle duplicate values in python?"
      ],
      "metadata": {
        "id": "BGNxtFtbtYdI"
      }
    },
    {
      "cell_type": "markdown",
      "source": [
        "In Python, sets automatically remove duplicate values. A set is an unordered collection of unique elements, meaning: Each element can appear only once in a set, no matter how many times it's added.\n",
        "\n",
        "How Does This Work Internally?\n",
        "\n",
        "1.Sets are implemented using a hash table.\n",
        "2.When we add an element, Python calculates its hash value.\n",
        "3.If the hash already exists in the set, the new value is ignored."
      ],
      "metadata": {
        "id": "eUQzevkstoVX"
      }
    },
    {
      "cell_type": "markdown",
      "source": [
        "14.How does the \"in\" keyword work differently for lists and dictionaries?"
      ],
      "metadata": {
        "id": "9n204kb_uMIC"
      }
    },
    {
      "cell_type": "markdown",
      "source": [
        "=> The in keyword is used to check for membership — i.e., whether a value exists within a collection — but it works differently for lists and dictionaries.\n",
        "1. For Lists\n",
        "The in keyword checks if a specific element (value) is present in the list.\n",
        "2. For Dictionaries\n",
        "The in keyword checks only the keys — not the values."
      ],
      "metadata": {
        "id": "zdjGDVh0uqDv"
      }
    },
    {
      "cell_type": "markdown",
      "source": [
        "15.Can you modify the elements of a tuple ? Explain why or why not?"
      ],
      "metadata": {
        "id": "LSvtgwXqvlHc"
      }
    },
    {
      "cell_type": "markdown",
      "source": [
        "=> No, we cannot modify the elements of a tuple.\n",
        "\n",
        "Tuples in Python are immutable, which means once a tuple is created, its elements cannot be changed, added, or removed.\n",
        "\n",
        "This is by design —\n",
        "1. Python uses immutability to make data structures:\n",
        "2. Hashable.\n",
        "3. Predictable."
      ],
      "metadata": {
        "id": "w7qGJ7dMv1rI"
      }
    },
    {
      "cell_type": "markdown",
      "source": [
        "16. What is nested dictionary,and give an example of its use case?"
      ],
      "metadata": {
        "id": "ZzCdJfhdwyvc"
      }
    },
    {
      "cell_type": "markdown",
      "source": [
        "=>A nested dictionary is a dictionary inside another dictionary. This allows you to organize complex, structured data in a clean and hierarchical way.\n",
        "\n",
        "In a school management app, each student might have personal info and subject-wise marks.\n",
        "\n",
        " Example:\n",
        "\n",
        "student = {\n",
        "   \"name\": \"Asha\",\n",
        "   \"age\": 20,\n",
        "   \"grades\": {\n",
        "        \"math\": 88,\n",
        "        \"science\": 92,\n",
        "        \"english\": 85 }}\n"
      ],
      "metadata": {
        "id": "PYCFUhabxEmi"
      }
    },
    {
      "cell_type": "markdown",
      "source": [
        "17. Describe the time complexity of accessing elements in a dictionary."
      ],
      "metadata": {
        "id": "LXt426zszuii"
      }
    },
    {
      "cell_type": "markdown",
      "source": [
        "In Python, accessing an element in a dictionary by key is generally very fast, thanks to its underlying hash table implementation.\n",
        "\n",
        "Average-Case Time Complexity:\n",
        "1.Accessing my_dict[key] takes constant time, regardless of the size of the dictionary.\n",
        "2.This is because Python uses hashing to directly jump to the memory location of the key.\n",
        "\n",
        "Worst-Case Time Complexity:\n",
        "1.This can happen when:\n",
        "2.Hash collisions occur frequently (many keys map to the same hash).\n",
        "3.All keys end up in the same bucket, degrading performance to linear time."
      ],
      "metadata": {
        "id": "PVyMGBbYyXKG"
      }
    },
    {
      "cell_type": "markdown",
      "source": [
        "18.In what situations are lists preferred over dictionaries?"
      ],
      "metadata": {
        "id": "IXNoLBH50DdB"
      }
    },
    {
      "cell_type": "markdown",
      "source": [],
      "metadata": {
        "id": "5PIH2nPO1MSe"
      }
    },
    {
      "cell_type": "markdown",
      "source": [
        "19. Why are dictionaries considered unordered,and how does that affect data retrieval?"
      ],
      "metadata": {
        "id": "9rWzSJnZ1Ncj"
      }
    },
    {
      "cell_type": "markdown",
      "source": [],
      "metadata": {
        "id": "Df_mvMAa15Cq"
      }
    },
    {
      "cell_type": "markdown",
      "source": [
        "20.Explain the difference between a list and a dictionary in terms of data retrival."
      ],
      "metadata": {
        "id": "nDQ_FA4Q15iV"
      }
    },
    {
      "cell_type": "markdown",
      "source": [
        "=> Both lists and dictionaries store data in Python, but they differ greatly in how and how fast you retrieve data.\n",
        "**List**: Retrieval by Index (position)\n",
        "A list stores items in an ordered sequence.\n",
        "\n",
        "**Dictionary**: Retrieval by Key (Name)\n",
        "A dictionary stores data as key-value pairs."
      ],
      "metadata": {
        "id": "Lby3vHC62Rjs"
      }
    },
    {
      "cell_type": "markdown",
      "source": [
        "1.Write a code to create a string with your name and print it."
      ],
      "metadata": {
        "id": "K5pHX8MI21i5"
      }
    },
    {
      "cell_type": "code",
      "source": [
        "string1= \"My name is Binoy Bhusan Das\"\n",
        "name= 'String1'\n",
        "print(string1)"
      ],
      "metadata": {
        "colab": {
          "base_uri": "https://localhost:8080/"
        },
        "id": "uNJa3yll3Dpe",
        "outputId": "a8f9ed42-4af2-457a-85c2-e77d5f011671"
      },
      "execution_count": 5,
      "outputs": [
        {
          "output_type": "stream",
          "name": "stdout",
          "text": [
            "My name is Binoy Bhusan Das\n"
          ]
        }
      ]
    },
    {
      "cell_type": "markdown",
      "source": [
        "2.Write a code to find the length of the string \"Hello World\""
      ],
      "metadata": {
        "id": "GW_Pb93T4Xl0"
      }
    },
    {
      "cell_type": "code",
      "source": [
        "s= \"Hello World\"\n",
        "len(s)"
      ],
      "metadata": {
        "colab": {
          "base_uri": "https://localhost:8080/"
        },
        "id": "S7YtC4l74nzn",
        "outputId": "e44189ed-214b-47e6-8603-573bd6a07842"
      },
      "execution_count": 8,
      "outputs": [
        {
          "output_type": "execute_result",
          "data": {
            "text/plain": [
              "11"
            ]
          },
          "metadata": {},
          "execution_count": 8
        }
      ]
    },
    {
      "cell_type": "markdown",
      "source": [
        "3.Write a code to slice the first 3 characters from the string\"Python Programming\""
      ],
      "metadata": {
        "id": "r_uKK-ve50Nv"
      }
    },
    {
      "cell_type": "code",
      "source": [
        "str= \"Python Programming\"\n",
        "str[3:]"
      ],
      "metadata": {
        "colab": {
          "base_uri": "https://localhost:8080/",
          "height": 36
        },
        "id": "4wE3ktHZ6H2C",
        "outputId": "f603a038-eff5-4947-ffd9-33e3ab14e1e3"
      },
      "execution_count": 10,
      "outputs": [
        {
          "output_type": "execute_result",
          "data": {
            "text/plain": [
              "'hon Programming'"
            ],
            "application/vnd.google.colaboratory.intrinsic+json": {
              "type": "string"
            }
          },
          "metadata": {},
          "execution_count": 10
        }
      ]
    },
    {
      "cell_type": "markdown",
      "source": [
        "4.Write a code to convert the string \"hello\" to uppercase"
      ],
      "metadata": {
        "id": "yXVHbiTn66Vn"
      }
    },
    {
      "cell_type": "code",
      "source": [
        "text='hello'\n",
        "text.upper()"
      ],
      "metadata": {
        "colab": {
          "base_uri": "https://localhost:8080/",
          "height": 36
        },
        "id": "1BGnG6zU7b6P",
        "outputId": "8d0a1172-0c0d-42d1-be94-0e2859779244"
      },
      "execution_count": 11,
      "outputs": [
        {
          "output_type": "execute_result",
          "data": {
            "text/plain": [
              "'HELLO'"
            ],
            "application/vnd.google.colaboratory.intrinsic+json": {
              "type": "string"
            }
          },
          "metadata": {},
          "execution_count": 11
        }
      ]
    },
    {
      "cell_type": "markdown",
      "source": [
        "5.Write a code to replace the word\"apple\" with \"orange\" in the string \"I like apple\"."
      ],
      "metadata": {
        "id": "xqWktxCk7pdC"
      }
    },
    {
      "cell_type": "code",
      "source": [
        "str='I like apple'\n",
        "str.replace('apple','orange')"
      ],
      "metadata": {
        "colab": {
          "base_uri": "https://localhost:8080/",
          "height": 36
        },
        "id": "SHlLGUkH8FZ6",
        "outputId": "7562c398-ce64-4cc9-e13e-d59993db0717"
      },
      "execution_count": 13,
      "outputs": [
        {
          "output_type": "execute_result",
          "data": {
            "text/plain": [
              "'I like orange'"
            ],
            "application/vnd.google.colaboratory.intrinsic+json": {
              "type": "string"
            }
          },
          "metadata": {},
          "execution_count": 13
        }
      ]
    },
    {
      "cell_type": "markdown",
      "source": [
        "6.Write a code to create a list with numbers 1 to 5 and print it."
      ],
      "metadata": {
        "id": "2Ag9jCSw8gUV"
      }
    },
    {
      "cell_type": "code",
      "source": [
        "lis=\"numbers\"\n",
        "numbers=[1,2,3,4,5]\n",
        "print(numbers)"
      ],
      "metadata": {
        "colab": {
          "base_uri": "https://localhost:8080/"
        },
        "id": "EfL6kmhl80m0",
        "outputId": "d2866c93-55f8-47a5-a8d6-d78129354116"
      },
      "execution_count": 14,
      "outputs": [
        {
          "output_type": "stream",
          "name": "stdout",
          "text": [
            "[1, 2, 3, 4, 5]\n"
          ]
        }
      ]
    },
    {
      "cell_type": "markdown",
      "source": [
        "7.Write a code to append the number 10 to the list [1,2,3,4]"
      ],
      "metadata": {
        "id": "nWrlmP779lTa"
      }
    },
    {
      "cell_type": "code",
      "source": [
        "lis=[1,2,3,4]\n",
        "lis.append(10)\n",
        "lis"
      ],
      "metadata": {
        "colab": {
          "base_uri": "https://localhost:8080/"
        },
        "id": "Zu-3YJLF9_8G",
        "outputId": "b21922d4-35a9-44c7-f0b8-905a618384aa"
      },
      "execution_count": 15,
      "outputs": [
        {
          "output_type": "execute_result",
          "data": {
            "text/plain": [
              "[1, 2, 3, 4, 10]"
            ]
          },
          "metadata": {},
          "execution_count": 15
        }
      ]
    },
    {
      "cell_type": "markdown",
      "source": [
        "8.Write a code to remove the number 3 from the list [1,2,3,4,5]"
      ],
      "metadata": {
        "id": "VGAxiluS-Zbx"
      }
    },
    {
      "cell_type": "code",
      "source": [
        "lis=[1,2,3,4,5]\n",
        "lis.remove(3)\n",
        "lis"
      ],
      "metadata": {
        "colab": {
          "base_uri": "https://localhost:8080/"
        },
        "id": "ovfzkPq1-0Bj",
        "outputId": "8b1faf8a-422f-488c-9816-b0d4eba30919"
      },
      "execution_count": 16,
      "outputs": [
        {
          "output_type": "execute_result",
          "data": {
            "text/plain": [
              "[1, 2, 4, 5]"
            ]
          },
          "metadata": {},
          "execution_count": 16
        }
      ]
    },
    {
      "cell_type": "markdown",
      "source": [
        "9.write a code to access the second element in the list ['a','b','c','d']"
      ],
      "metadata": {
        "id": "t7ZWfDl5_Fl7"
      }
    },
    {
      "cell_type": "code",
      "source": [
        "letters= [\"a\",\"b\",\"c\",\"d\"]\n",
        "second_element=letters[1]\n",
        "print(second_element)"
      ],
      "metadata": {
        "colab": {
          "base_uri": "https://localhost:8080/"
        },
        "id": "KTPCQ3mI_cmp",
        "outputId": "ef0abf88-acbf-472d-e8e4-f4eafbd1dffb"
      },
      "execution_count": 21,
      "outputs": [
        {
          "output_type": "stream",
          "name": "stdout",
          "text": [
            "b\n"
          ]
        }
      ]
    },
    {
      "cell_type": "markdown",
      "source": [
        "10.write a code to reverse the list [10,20,30,40,50]"
      ],
      "metadata": {
        "id": "sGtotgi7Bigh"
      }
    },
    {
      "cell_type": "code",
      "source": [
        "numbers=['10','20','30','40','50']\n",
        "numbers=lis\n",
        "lis[::-1]"
      ],
      "metadata": {
        "colab": {
          "base_uri": "https://localhost:8080/"
        },
        "id": "Q_r_cZEsBwDJ",
        "outputId": "13824082-1eb2-4eb4-d65b-df6d4b6d078d"
      },
      "execution_count": 24,
      "outputs": [
        {
          "output_type": "execute_result",
          "data": {
            "text/plain": [
              "[5, 4, 2, 1]"
            ]
          },
          "metadata": {},
          "execution_count": 24
        }
      ]
    },
    {
      "cell_type": "markdown",
      "source": [
        "11.Write a code to create a tuple with the elements 100,200,300 and print it"
      ],
      "metadata": {
        "id": "nnjotkMTDCOE"
      }
    },
    {
      "cell_type": "code",
      "source": [
        "t=(100,200,300)\n",
        "print(t)"
      ],
      "metadata": {
        "colab": {
          "base_uri": "https://localhost:8080/"
        },
        "id": "3nqX8lM0Dasq",
        "outputId": "756d9668-2132-458f-a56e-0845b04b334a"
      },
      "execution_count": 25,
      "outputs": [
        {
          "output_type": "stream",
          "name": "stdout",
          "text": [
            "(100, 200, 300)\n"
          ]
        }
      ]
    },
    {
      "cell_type": "markdown",
      "source": [
        "12.Write a code to access the second to last element of the tuple('red','green','blue','yellow')"
      ],
      "metadata": {
        "id": "5Wo2q7wnHeeM"
      }
    },
    {
      "cell_type": "code",
      "source": [
        "t=('red','green','blue','yellow')\n",
        "print(-2)"
      ],
      "metadata": {
        "colab": {
          "base_uri": "https://localhost:8080/"
        },
        "id": "j2AtWtQkIIPf",
        "outputId": "d3563a86-dd47-4cc5-a53e-7a251bdb5ce9"
      },
      "execution_count": 26,
      "outputs": [
        {
          "output_type": "stream",
          "name": "stdout",
          "text": [
            "-2\n"
          ]
        }
      ]
    },
    {
      "cell_type": "markdown",
      "source": [
        "17.write a code to clear all elements from the set{1,2,3,4,5}"
      ],
      "metadata": {
        "id": "a0tGnFHgJE-x"
      }
    },
    {
      "cell_type": "code",
      "source": [
        "n={1,2,3,4,5}\n",
        "n.clear()\n",
        "print(n)"
      ],
      "metadata": {
        "colab": {
          "base_uri": "https://localhost:8080/"
        },
        "id": "6qHPG_NBJXO-",
        "outputId": "af473b4f-771b-4047-bd98-cabe3247e698"
      },
      "execution_count": 28,
      "outputs": [
        {
          "output_type": "stream",
          "name": "stdout",
          "text": [
            "set()\n"
          ]
        }
      ]
    },
    {
      "cell_type": "markdown",
      "source": [
        "18.Write a code to remove element 4 from the set{1,2,3,4}"
      ],
      "metadata": {
        "id": "ndiKko3rJ0P7"
      }
    },
    {
      "cell_type": "code",
      "source": [
        "n={1,2,3,4}\n",
        "n.remove(4)\n",
        "print(n)"
      ],
      "metadata": {
        "colab": {
          "base_uri": "https://localhost:8080/"
        },
        "id": "LO95BuKeJ-Z_",
        "outputId": "fb0811ed-fc56-4ab4-e0f3-cd1201c70e61"
      },
      "execution_count": 29,
      "outputs": [
        {
          "output_type": "stream",
          "name": "stdout",
          "text": [
            "{1, 2, 3}\n"
          ]
        }
      ]
    },
    {
      "cell_type": "markdown",
      "source": [
        "19.Write a code to fint the union of two sets{1,2,3}and{3,4,5}"
      ],
      "metadata": {
        "id": "T2sApSFfKN3o"
      }
    },
    {
      "cell_type": "code",
      "source": [
        "s1=[1,2,3]\n",
        "s2=[3,4,5]\n",
        "print(s1+s2)"
      ],
      "metadata": {
        "colab": {
          "base_uri": "https://localhost:8080/"
        },
        "id": "Oms1UxcUKcCP",
        "outputId": "45c590ad-783b-4a8f-9039-f7d9ac8976a7"
      },
      "execution_count": 31,
      "outputs": [
        {
          "output_type": "stream",
          "name": "stdout",
          "text": [
            "[1, 2, 3, 3, 4, 5]\n"
          ]
        }
      ]
    },
    {
      "cell_type": "markdown",
      "source": [
        "20.write a code to fint the intersection of two sets{1,2,3} and{2,3,4}"
      ],
      "metadata": {
        "id": "UAezmIJXK-gT"
      }
    },
    {
      "cell_type": "code",
      "source": [
        "s1={1,2,3}\n",
        "s2={2,3,4}\n",
        "print(s1&s2)"
      ],
      "metadata": {
        "colab": {
          "base_uri": "https://localhost:8080/"
        },
        "id": "S3s7Rz8QLKO3",
        "outputId": "83780272-0ec7-4f5d-e00f-c762cbad20ac"
      },
      "execution_count": 32,
      "outputs": [
        {
          "output_type": "stream",
          "name": "stdout",
          "text": [
            "{2, 3}\n"
          ]
        }
      ]
    }
  ]
}