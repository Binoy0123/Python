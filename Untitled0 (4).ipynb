{
  "nbformat": 4,
  "nbformat_minor": 0,
  "metadata": {
    "colab": {
      "provenance": []
    },
    "kernelspec": {
      "name": "python3",
      "display_name": "Python 3"
    },
    "language_info": {
      "name": "python"
    }
  },
  "cells": [
    {
      "cell_type": "markdown",
      "source": [
        "# PYTHON"
      ],
      "metadata": {
        "id": "zZ5Xkm7_0Rxt"
      }
    },
    {
      "cell_type": "markdown",
      "source": [
        "1.What is python,and why is it popular?\n",
        "\n",
        "  =>Python is a programming language,widely using in the entire world due to its simplicity, versatility and large standard library that supports many common programming tasks.\n",
        "   Python's popularity can be attributed to several key factors:\n",
        "        * Easy to Learn and Use.\n",
        "        * Scalability and Versatility.\n",
        "        * Large community and Ecosystem.\n",
        "        * Community Support.\n",
        "\n",
        "\n",
        "2.What is an interpreter in Python?\n",
        "\n",
        "  => An interpreter in Python is a program that reads and executes python code line by line.\n",
        "\n",
        "\n",
        "3.What are the Pre-defined keywords in Python?\n",
        "\n",
        "  =>Pre-defined keywords in Python are reserved words in python that have special meanings and can not be used as identifiers. Example of pre-defined keywords include if,else,while,for,True,False,None,etc.\n",
        "\n",
        "\n",
        "\n",
        "4.Can keywords be used as variable names?\n",
        "\n",
        "  => No,Keywords can not be used as variable names.\n",
        "\n",
        "\n",
        "5.What is mutability in Python?\n",
        "  =>In Python, objects can be either changeable or unchangeable. Mutable objects such as lists and dictionaries can be modified after creation.\n",
        "\n",
        "\n",
        "\n",
        "6.Why are Lists Mutable,but tuples are immutable?\n",
        "  =>\n",
        "\n",
        "\n",
        "7.What is the difference between \"==\"and \"is\" operators in python?\n",
        "  =>Operator \"==\" is comparison operator shows equality or similarity used to checks if values are equal.Where as operator \"is\" is a identity operator checks if both refer to the same object.\n",
        "\n",
        "\n",
        "\n",
        "8.What are the logical operator in Python?\n",
        "  =>Logical operators are to used combine conditional statements.They are: and,or,not.\n",
        "\n",
        "\n",
        "\n",
        "9.What is type casting in Python?\n",
        "  =>Type casting also referred to as type conversion,is the process of changing one data type to another in Python.\n",
        "\n",
        "\n",
        "\n",
        "10.What is the difference between explicit and implicit type casting?\n",
        "  =>In Implicit Type Casting Python automatically converts one data type to another without intervention. This usually happens when no data loss is expected. While Explicit Type Casting convert data type using inbuilt castinf function like int(),float(),str(),B=bool().\n",
        "\n",
        "\n",
        "\n",
        "\n",
        "\n",
        "\n",
        "11.What is the purpose of conditional statements in Python?\n",
        "   =>Conditionals in Python are used to execute code based on the evaluation of one or more conditions.Python supports conditional statements such as if, elif (else if), and else to control the flow of execution.\n",
        "   The purpose of conditional statement in python are :\n",
        "  *To execute specific code only when certain conditions are met.\n",
        "\n",
        "  *To add logic and decision-making to programs.\n",
        "\n",
        "  *To allow programs to respond differently to different inputs or situations.\n",
        "\n",
        "\n",
        "\n",
        "\n",
        "12.How does the elif statement work?\n",
        "\n",
        "\n",
        "\n",
        "\n",
        "13.What is the difference between For and While Loops?\n",
        "   =>“for” loops are used for iterating over a sequence of elements, while “while” loops are used for executing code until a specified condition becomes Fulfilled.\n",
        "\n",
        "\n",
        "\n",
        "\n",
        "14.Describe a scenario where a while loop is more suitable than a for loop?"
      ],
      "metadata": {
        "id": "AfEYeni90XOT"
      }
    },
    {
      "cell_type": "markdown",
      "source": [],
      "metadata": {
        "id": "416AnCg_0OZm"
      }
    },
    {
      "cell_type": "code",
      "execution_count": null,
      "metadata": {
        "id": "yTAYWG7oystf"
      },
      "outputs": [],
      "source": [
        "# 1.Write python Program to print ''Hello World''"
      ]
    },
    {
      "cell_type": "code",
      "source": [
        "print(\"Hello World\")\n"
      ],
      "metadata": {
        "colab": {
          "base_uri": "https://localhost:8080/"
        },
        "id": "aWYtbZmTOP5V",
        "outputId": "139d085a-1561-44d0-dd15-ed794fc456b0"
      },
      "execution_count": null,
      "outputs": [
        {
          "output_type": "stream",
          "name": "stdout",
          "text": [
            "Hello World\n"
          ]
        }
      ]
    },
    {
      "cell_type": "code",
      "source": [
        "# 2.Write a python program that displays your name and age?"
      ],
      "metadata": {
        "id": "QcNss0PWPRgC"
      },
      "execution_count": null,
      "outputs": []
    },
    {
      "cell_type": "code",
      "source": [
        "print(\"My Name is Binoy Bhusan Das\")\n",
        "print(\"I am 23 Years old\")"
      ],
      "metadata": {
        "id": "I4zQdz32RXVH",
        "colab": {
          "base_uri": "https://localhost:8080/",
          "height": 0
        },
        "outputId": "c64010ea-aea9-4c27-d139-3fdaff89234d"
      },
      "execution_count": 8,
      "outputs": [
        {
          "output_type": "stream",
          "name": "stdout",
          "text": [
            "My Name is Binoy Bhusan Das\n",
            "I am 23 Years old\n"
          ]
        }
      ]
    },
    {
      "cell_type": "code",
      "source": [
        "# 3. Write code to print all the pre-defined keywords in python using the keyword library?"
      ],
      "metadata": {
        "id": "6LvGb3YmTgYd"
      },
      "execution_count": null,
      "outputs": []
    },
    {
      "cell_type": "code",
      "source": [
        "help('keywords')"
      ],
      "metadata": {
        "id": "REolStl2UqId",
        "colab": {
          "base_uri": "https://localhost:8080/",
          "height": 0
        },
        "outputId": "cf05ed0a-5569-49eb-fbc3-59035dd33f7e"
      },
      "execution_count": 15,
      "outputs": [
        {
          "output_type": "stream",
          "name": "stdout",
          "text": [
            "\n",
            "Here is a list of the Python keywords.  Enter any keyword to get more help.\n",
            "\n",
            "False               class               from                or\n",
            "None                continue            global              pass\n",
            "True                def                 if                  raise\n",
            "and                 del                 import              return\n",
            "as                  elif                in                  try\n",
            "assert              else                is                  while\n",
            "async               except              lambda              with\n",
            "await               finally             nonlocal            yield\n",
            "break               for                 not                 \n",
            "\n"
          ]
        }
      ]
    },
    {
      "cell_type": "code",
      "source": [
        "# 4.Write aprogram that checks if a given word is a python keyword."
      ],
      "metadata": {
        "id": "rtbI7LT7ZQcD"
      },
      "execution_count": null,
      "outputs": []
    },
    {
      "cell_type": "code",
      "source": [],
      "metadata": {
        "id": "FfHdkhcZZiYb"
      },
      "execution_count": null,
      "outputs": []
    },
    {
      "cell_type": "code",
      "source": [
        "# 12. Write a for loop to print numbers from 1 to 10"
      ],
      "metadata": {
        "id": "xDFUuiLsdrGd"
      },
      "execution_count": null,
      "outputs": []
    },
    {
      "cell_type": "code",
      "source": [
        "number = [1, 2, 3, 4, 5, 6, 7, 8, 9,10]\n",
        "print(number)"
      ],
      "metadata": {
        "colab": {
          "base_uri": "https://localhost:8080/"
        },
        "id": "oiXFgDB3e_zn",
        "outputId": "14a5ce1d-e8e4-4269-cff1-c5edf26bc109"
      },
      "execution_count": 18,
      "outputs": [
        {
          "output_type": "stream",
          "name": "stdout",
          "text": [
            "[1, 2, 3, 4, 5, 6, 7, 8, 9, 10]\n"
          ]
        }
      ]
    },
    {
      "cell_type": "code",
      "source": [],
      "metadata": {
        "id": "SXWjB5nPgtN3"
      },
      "execution_count": null,
      "outputs": []
    }
  ]
}